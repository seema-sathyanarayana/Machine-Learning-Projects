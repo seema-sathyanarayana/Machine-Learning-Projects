{
  "nbformat": 4,
  "nbformat_minor": 0,
  "metadata": {
    "colab": {
      "name": "Air_quality.ipynb",
      "version": "0.3.2",
      "provenance": [],
      "collapsed_sections": []
    },
    "kernelspec": {
      "name": "python3",
      "display_name": "Python 3"
    }
  },
  "cells": [
    {
      "metadata": {
        "id": "B6vlKuyfgt0p",
        "colab_type": "text"
      },
      "cell_type": "markdown",
      "source": [
        "### **Domain Name :** Environment air quality \n",
        "\n",
        "**Dataset :** Air quality of an Italian city\n",
        "\n",
        "*   The dataset contains 9358 instances of hourly averaged responses from an array of 5 metal oxide chemical sensors embedded in an Air Quality Chemical Multisensor Device. \n",
        "\n",
        "*   The device was located on the field in a significantly polluted area, at road level, within an Italian city. \n",
        "\n",
        "*   Data were recorded from March 2004 to February 2005 (one year)representing the longest freely available recordings of on field deployed air quality chemical sensor devices responses.\n",
        "\n",
        "*   Ground Truth hourly averaged concentrations for CO, Non Metanic Hydrocarbons, Benzene, Total Nitrogen Oxides (NOx) and Nitrogen Dioxide (NO2) and were provided by a co-located reference certified analyzer. \n",
        "\n",
        "*   Missing values are tagged with -200 value. \n",
        "\n",
        "**Attributes of the dataset are :**\n",
        "0.\t Date (DD/MM/YYYY) \n",
        "1.\tTime (HH.MM.SS)\n",
        "2.\tTrue hourly averaged concentration CO in mg/m^3 (reference analyzer)\n",
        "3.\tPT08.S1 (tin oxide) hourly averaged sensor response (nominally CO targeted)\n",
        "4.\tTrue hourly averaged overall Non MetanicHydroCarbons concentration in microg/m^3 (reference analyzer)\n",
        "5.\tTrue hourly averaged Benzene concentration in microg/m^3 (reference analyzer) \n",
        "6.\tPT08.S2 (titania) hourly averaged sensor response (nominally NMHC targeted) \n",
        "7.\tTrue hourly averaged NOx concentration in ppb (reference analyzer) \n",
        "8.\tPT08.S3 (tungsten oxide) hourly averaged sensor response (nominally NOx targeted) \n",
        "9.\tTrue hourly averaged NO2 concentration in microg/m^3 (reference analyzer) \n",
        "10.\tPT08.S4 (tungsten oxide) hourly averaged sensor response (nominally NO2 targeted) \n",
        "11.\tPT08.S5 (indium oxide) hourly averaged sensor response (nominally O3 targeted) \n",
        "12.\tTemperature in °C \n",
        "13.\tRelative Humidity (%) \n",
        "14.\tAH Absolute Humidity\n",
        "\n",
        "**Problem :**\n",
        "\n",
        "Humans are very sensitive to humidity, as the skin relies on the air to get rid of moisture. The process of sweating is your body's attempt to keep cool and maintain its current temperature. If the air is at 100 % relative humidity, sweat will not evaporate into the air. As a result, we feel much hotter than the actual temperature when the relative humidity is high. If the relative humidity is low, we can feel much cooler than the actual temperature because our sweat evaporates easily, cooling ­us off. For example, if the air temperature e is 75 degrees Fahrenheit (24 degrees Celsius) and the relative humidity is zero percent, the air temperature feels like 69 degrees Fahrenheit (21 C) to our bodies. If the air temperature is 75 degrees Fahrenheit (24 C) and the relative humidity is 100 percent, we feel like it's 80 degrees (27 C) out. \n",
        "\n",
        "**Objective :**\n",
        "\n",
        "The objective is to predict the Relative Humidity at a given point of time based on all other attributes affecting the change in RH.\n"
      ]
    }
  ]
}