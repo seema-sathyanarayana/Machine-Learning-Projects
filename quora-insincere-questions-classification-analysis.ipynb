{
 "cells": [
  {
   "cell_type": "code",
   "execution_count": 1,
   "metadata": {
    "_cell_guid": "b1076dfc-b9ad-4769-8c92-a6c4dae69d19",
    "_uuid": "8f2839f25d086af736a60e9eeb907d3b93b6e0e5"
   },
   "outputs": [],
   "source": [
    "# This Python 3 environment comes with many helpful analytics libraries installed\n",
    "# It is defined by the kaggle/python docker image: https://github.com/kaggle/docker-python\n",
    "# For example, here's several helpful packages to load in \n",
    "\n",
    "#import numpy as np # linear algebra\n",
    "#import pandas as pd # data processing, CSV file I/O (e.g. pd.read_csv)\n",
    "\n",
    "# Input data files are available in the \"../input/\" directory.\n",
    "# For example, running this (by clicking run or pressing Shift+Enter) will list the files in the input directory\n",
    "\n",
    "#import os\n",
    "#print(os.listdir(\"../input\"))\n",
    "#os.getcwd()\n",
    "#os.chdir(\"../input\")\n",
    "# Any results you write to the current directory are saved as output."
   ]
  },
  {
   "cell_type": "markdown",
   "metadata": {
    "_cell_guid": "79c7e3d0-c299-4dcb-8224-4455121ee9b0",
    "_uuid": "d629ff2d2480ee46fbb7e2d37f6b5fab8052498a",
    "collapsed": true
   },
   "source": [
    " ### <font color=\"Red\" size=4>\" Importing all the packages for implementing the models\"</font>"
   ]
  },
  {
   "cell_type": "code",
   "execution_count": 2,
   "metadata": {
    "_uuid": "897405832d7bd4e94c530c7367be89df3ee47aa4"
   },
   "outputs": [],
   "source": [
    "import numpy as np\n",
    "import pandas as pd\n",
    "import matplotlib.pyplot as plt\n",
    "import seaborn as sns\n",
    "from nltk.corpus import stopwords"
   ]
  },
  {
   "cell_type": "code",
   "execution_count": 3,
   "metadata": {
    "_uuid": "00a74f777b9d019273b74d01ea8edaeac8391bde"
   },
   "outputs": [
    {
     "name": "stdout",
     "output_type": "stream",
     "text": [
      "The no of rows in train datasets is 1032991 and columns is 3\n",
      "The no of rows in test datasets is 56370 and columns is 2\n"
     ]
    }
   ],
   "source": [
    "df_train= pd.read_csv(\"train.csv\")\n",
    "df_sample= pd.read_csv(\"sample_submission.csv\")\n",
    "df_test= pd.read_csv(\"test.csv\")\n",
    "\n",
    "print(\"The no of rows in train datasets is {} and columns is {}\".format(df_train.shape[0],df_train.shape[1]))\n",
    "print(\"The no of rows in test datasets is {} and columns is {}\".format(df_test.shape[0],df_test.shape[1]))"
   ]
  },
  {
   "cell_type": "markdown",
   "metadata": {
    "_uuid": "413bc208da8e64353450a2204599bdeafc35551a"
   },
   "source": [
    "## <font color=\"Red\"> Exploratory Data Analysis of Datasets</font>"
   ]
  },
  {
   "cell_type": "markdown",
   "metadata": {
    "_uuid": "494a8bb26faa07b35c843be26cde110533366a49"
   },
   "source": [
    "* ### <font color=\"orange\">Checking if there is missing value in the datasets</font>"
   ]
  },
  {
   "cell_type": "code",
   "execution_count": 4,
   "metadata": {
    "_uuid": "c9d5a33240161769bc694a1cbf8af2b730a0af72"
   },
   "outputs": [
    {
     "data": {
      "text/plain": [
       "qid              0\n",
       "question_text    0\n",
       "target           0\n",
       "dtype: int64"
      ]
     },
     "execution_count": 4,
     "metadata": {},
     "output_type": "execute_result"
    }
   ],
   "source": [
    "df_train.isnull().sum() # There is no missing value in the train datasets.Good to go!!"
   ]
  },
  {
   "cell_type": "markdown",
   "metadata": {
    "_uuid": "9f84dfaef1f3a3bd6e82ad87be3990c2b4ccd645"
   },
   "source": [
    "### Description of the datasets types"
   ]
  },
  {
   "cell_type": "code",
   "execution_count": 5,
   "metadata": {
    "_uuid": "36bed91bcd7a2e4886e97a36da2718cc7509deff"
   },
   "outputs": [
    {
     "name": "stdout",
     "output_type": "stream",
     "text": [
      "<class 'pandas.core.frame.DataFrame'>\n",
      "RangeIndex: 1032991 entries, 0 to 1032990\n",
      "Data columns (total 3 columns):\n",
      "qid              1032991 non-null object\n",
      "question_text    1032991 non-null object\n",
      "target           1032991 non-null int64\n",
      "dtypes: int64(1), object(2)\n",
      "memory usage: 23.6+ MB\n"
     ]
    }
   ],
   "source": [
    "df_train.info()"
   ]
  },
  {
   "cell_type": "code",
   "execution_count": 6,
   "metadata": {
    "_uuid": "f0a49980bbe507ea669d03eaea0060753885e1f4"
   },
   "outputs": [
    {
     "name": "stdout",
     "output_type": "stream",
     "text": [
      "<class 'pandas.core.frame.DataFrame'>\n",
      "RangeIndex: 56370 entries, 0 to 56369\n",
      "Data columns (total 2 columns):\n",
      "qid              56370 non-null object\n",
      "question_text    56370 non-null object\n",
      "dtypes: object(2)\n",
      "memory usage: 880.9+ KB\n"
     ]
    }
   ],
   "source": [
    "df_test.info()"
   ]
  },
  {
   "cell_type": "markdown",
   "metadata": {
    "_uuid": "c5d1852ada99d0d3e22a1fc89775a841ed459f3e"
   },
   "source": [
    "### <font color=\"orange\">Visualization of target datasets</font>"
   ]
  },
  {
   "cell_type": "code",
   "execution_count": 7,
   "metadata": {
    "_uuid": "8f6636e63f1c37cf9b90bc1d4af3603995845afa"
   },
   "outputs": [
    {
     "data": {
      "text/plain": [
       "<matplotlib.axes._subplots.AxesSubplot at 0x1e1e6728b70>"
      ]
     },
     "execution_count": 7,
     "metadata": {},
     "output_type": "execute_result"
    },
    {
     "data": {
      "image/png": "[encoded data removed]",
      "text/plain": [
       "<Figure size 432x288 with 1 Axes>"
      ]
     },
     "metadata": {},
     "output_type": "display_data"
    }
   ],
   "source": [
    "plt.xlabel(\"Target\")\n",
    "plt.ylabel(\"Total Count\")\n",
    "df_train['target'].hist()"
   ]
  },
  {
   "cell_type": "markdown",
   "metadata": {
    "_uuid": "2fc9b58557aa294ec33325093704f0c1d395b9da"
   },
   "source": [
    "## <font color=\"Red\">Implementing the models to predict the accuracy</font>"
   ]
  },
  {
   "cell_type": "markdown",
   "metadata": {
    "_uuid": "ee2779351c95d4ad066356bc1d2db0049eb060cb"
   },
   "source": [
    " ### <font color=\"Green\">1. Decision Tree</font>"
   ]
  },
  {
   "cell_type": "code",
   "execution_count": 8,
   "metadata": {
    "_uuid": "4a30cc9ea216f4572dcd77535530c521ea11ca27"
   },
   "outputs": [
    {
     "name": "stdout",
     "output_type": "stream",
     "text": [
      "[nltk_data] Downloading package stopwords to\n",
      "[nltk_data]     C:\\Users\\HP\\AppData\\Roaming\\nltk_data...\n",
      "[nltk_data]   Package stopwords is already up-to-date!\n"
     ]
    }
   ],
   "source": [
    "import string\n",
    "import nltk\n",
    "nltk.download('stopwords')\n",
    "eng_stopwords = set(stopwords.words(\"english\")) #used to extract stop words like 'is', 'there', etc from lib nltk\n",
    "\n",
    "from sklearn import tree\n",
    "from sklearn.metrics import accuracy_score\n",
    "\n",
    "#eng_stopwords"
   ]
  },
  {
   "cell_type": "markdown",
   "metadata": {
    "_uuid": "6db0a41e945a37068c12084c121979f0aac2cf43"
   },
   "source": [
    "### <font color=\"orange\">Feature Columns Setting</font>"
   ]
  },
  {
   "cell_type": "markdown",
   "metadata": {
    "_uuid": "ebdd7441d09db690cd0ae3b28d59f785456c2d7e"
   },
   "source": [
    "### Let Extract metadata from feature columns to gain meaningful insights"
   ]
  },
  {
   "cell_type": "code",
   "execution_count": 9,
   "metadata": {
    "_uuid": "6cb65586cac744a5e9dbde00f5736789c8989640"
   },
   "outputs": [],
   "source": [
    "## Number of words in the text ##\n",
    "df_train[\"num_words\"] = df_train[\"question_text\"].apply(lambda x: len(str(x).split()))\n",
    "df_test[\"num_words\"] = df_test[\"question_text\"].apply(lambda x: len(str(x).split()))\n",
    "\n",
    "## Number of unique words in the text ##\n",
    "df_train[\"num_unique_words\"] = df_train[\"question_text\"].apply(lambda x: len(set(str(x).split())))\n",
    "df_test[\"num_unique_words\"] = df_test[\"question_text\"].apply(lambda x: len(set(str(x).split())))\n",
    "\n",
    "## Number of characters in the text ##\n",
    "df_train[\"num_chars\"] = df_train[\"question_text\"].apply(lambda x: len(str(x)))\n",
    "df_test[\"num_chars\"] = df_test[\"question_text\"].apply(lambda x: len(str(x)))\n",
    "\n",
    "## Number of stopwords in the text ##\n",
    "df_train[\"num_stopwords\"] = df_train[\"question_text\"].apply(lambda x: len([w for w in str(x).lower().split() if w in eng_stopwords]))\n",
    "df_test[\"num_stopwords\"] = df_test[\"question_text\"].apply(lambda x: len([w for w in str(x).lower().split() if w in eng_stopwords]))\n",
    "\n",
    "## Number of punctuations in the text ##\n",
    "df_train[\"num_punctuations\"] =df_train['question_text'].apply(lambda x: len([c for c in str(x) if c in string.punctuation]) )\n",
    "df_test[\"num_punctuations\"] =df_test['question_text'].apply(lambda x: len([c for c in str(x) if c in string.punctuation]) )\n",
    "\n",
    "## Number of title case words in the text ##\n",
    "df_train[\"num_words_upper\"] = df_train[\"question_text\"].apply(lambda x: len([w for w in str(x).split() if w.isupper()]))\n",
    "df_test[\"num_words_upper\"] = df_test[\"question_text\"].apply(lambda x: len([w for w in str(x).split() if w.isupper()]))\n",
    "\n",
    "## Number of title case words in the text ##\n",
    "df_train[\"num_words_title\"] = df_train[\"question_text\"].apply(lambda x: len([w for w in str(x).split() if w.istitle()]))\n",
    "df_test[\"num_words_title\"] = df_test[\"question_text\"].apply(lambda x: len([w for w in str(x).split() if w.istitle()]))\n",
    "\n",
    "## Average length of the words in the text ##\n",
    "df_train[\"mean_word_len\"] = df_train[\"question_text\"].apply(lambda x: np.mean([len(w) for w in str(x).split()]))\n",
    "df_test[\"mean_word_len\"] = df_test[\"question_text\"].apply(lambda x: np.mean([len(w) for w in str(x).split()]))"
   ]
  },
  {
   "cell_type": "code",
   "execution_count": 10,
   "metadata": {
    "_uuid": "aa03726e7db83e1434db4989644a496150f0c159"
   },
   "outputs": [
    {
     "data": {
      "text/html": [
       "<div>\n",
       "<style scoped>\n",
       "    .dataframe tbody tr th:only-of-type {\n",
       "        vertical-align: middle;\n",
       "    }\n",
       "\n",
       "    .dataframe tbody tr th {\n",
       "        vertical-align: top;\n",
       "    }\n",
       "\n",
       "    .dataframe thead th {\n",
       "        text-align: right;\n",
       "    }\n",
       "</style>\n",
       "<table border=\"1\" class=\"dataframe\">\n",
       "  <thead>\n",
       "    <tr style=\"text-align: right;\">\n",
       "      <th></th>\n",
       "      <th>qid</th>\n",
       "      <th>question_text</th>\n",
       "      <th>target</th>\n",
       "      <th>num_words</th>\n",
       "      <th>num_unique_words</th>\n",
       "      <th>num_chars</th>\n",
       "      <th>num_stopwords</th>\n",
       "      <th>num_punctuations</th>\n",
       "      <th>num_words_upper</th>\n",
       "      <th>num_words_title</th>\n",
       "      <th>mean_word_len</th>\n",
       "    </tr>\n",
       "  </thead>\n",
       "  <tbody>\n",
       "    <tr>\n",
       "      <th>0</th>\n",
       "      <td>00002165364db923c7e6</td>\n",
       "      <td>Who is the best, Sunil Gavaskar or Kapil Dev?</td>\n",
       "      <td>0</td>\n",
       "      <td>9</td>\n",
       "      <td>9</td>\n",
       "      <td>45</td>\n",
       "      <td>4</td>\n",
       "      <td>2</td>\n",
       "      <td>0</td>\n",
       "      <td>5</td>\n",
       "      <td>4.111111</td>\n",
       "    </tr>\n",
       "    <tr>\n",
       "      <th>1</th>\n",
       "      <td>ca6b442cfc7da8685589</td>\n",
       "      <td>Can I use internet for help to write code in I...</td>\n",
       "      <td>0</td>\n",
       "      <td>12</td>\n",
       "      <td>12</td>\n",
       "      <td>58</td>\n",
       "      <td>6</td>\n",
       "      <td>1</td>\n",
       "      <td>2</td>\n",
       "      <td>2</td>\n",
       "      <td>3.916667</td>\n",
       "    </tr>\n",
       "  </tbody>\n",
       "</table>\n",
       "</div>"
      ],
      "text/plain": [
       "                    qid                                      question_text  \\\n",
       "0  00002165364db923c7e6      Who is the best, Sunil Gavaskar or Kapil Dev?   \n",
       "1  ca6b442cfc7da8685589  Can I use internet for help to write code in I...   \n",
       "\n",
       "   target  num_words  num_unique_words  num_chars  num_stopwords  \\\n",
       "0       0          9                 9         45              4   \n",
       "1       0         12                12         58              6   \n",
       "\n",
       "   num_punctuations  num_words_upper  num_words_title  mean_word_len  \n",
       "0                 2                0                5       4.111111  \n",
       "1                 1                2                2       3.916667  "
      ]
     },
     "execution_count": 10,
     "metadata": {},
     "output_type": "execute_result"
    }
   ],
   "source": [
    "df_train.head(2)"
   ]
  },
  {
   "cell_type": "code",
   "execution_count": 11,
   "metadata": {
    "_uuid": "9ae4161099370b02027b9ca2ab712bc842663c57"
   },
   "outputs": [
    {
     "data": {
      "text/html": [
       "<div>\n",
       "<style scoped>\n",
       "    .dataframe tbody tr th:only-of-type {\n",
       "        vertical-align: middle;\n",
       "    }\n",
       "\n",
       "    .dataframe tbody tr th {\n",
       "        vertical-align: top;\n",
       "    }\n",
       "\n",
       "    .dataframe thead th {\n",
       "        text-align: right;\n",
       "    }\n",
       "</style>\n",
       "<table border=\"1\" class=\"dataframe\">\n",
       "  <thead>\n",
       "    <tr style=\"text-align: right;\">\n",
       "      <th></th>\n",
       "      <th>qid</th>\n",
       "      <th>question_text</th>\n",
       "      <th>num_words</th>\n",
       "      <th>num_unique_words</th>\n",
       "      <th>num_chars</th>\n",
       "      <th>num_stopwords</th>\n",
       "      <th>num_punctuations</th>\n",
       "      <th>num_words_upper</th>\n",
       "      <th>num_words_title</th>\n",
       "      <th>mean_word_len</th>\n",
       "    </tr>\n",
       "  </thead>\n",
       "  <tbody>\n",
       "    <tr>\n",
       "      <th>0</th>\n",
       "      <td>00014894849d00ba98a9</td>\n",
       "      <td>My voice range is A2-C5. My chest voice goes u...</td>\n",
       "      <td>24</td>\n",
       "      <td>18</td>\n",
       "      <td>119</td>\n",
       "      <td>10</td>\n",
       "      <td>5</td>\n",
       "      <td>2</td>\n",
       "      <td>6</td>\n",
       "      <td>4.000</td>\n",
       "    </tr>\n",
       "    <tr>\n",
       "      <th>1</th>\n",
       "      <td>000156468431f09b3cae</td>\n",
       "      <td>How much does a tutor earn in Bangalore?</td>\n",
       "      <td>8</td>\n",
       "      <td>8</td>\n",
       "      <td>40</td>\n",
       "      <td>4</td>\n",
       "      <td>1</td>\n",
       "      <td>0</td>\n",
       "      <td>2</td>\n",
       "      <td>4.125</td>\n",
       "    </tr>\n",
       "  </tbody>\n",
       "</table>\n",
       "</div>"
      ],
      "text/plain": [
       "                    qid                                      question_text  \\\n",
       "0  00014894849d00ba98a9  My voice range is A2-C5. My chest voice goes u...   \n",
       "1  000156468431f09b3cae           How much does a tutor earn in Bangalore?   \n",
       "\n",
       "   num_words  num_unique_words  num_chars  num_stopwords  num_punctuations  \\\n",
       "0         24                18        119             10                 5   \n",
       "1          8                 8         40              4                 1   \n",
       "\n",
       "   num_words_upper  num_words_title  mean_word_len  \n",
       "0                2                6          4.000  \n",
       "1                0                2          4.125  "
      ]
     },
     "execution_count": 11,
     "metadata": {},
     "output_type": "execute_result"
    }
   ],
   "source": [
    "df_test.head(2)"
   ]
  },
  {
   "cell_type": "code",
   "execution_count": 12,
   "metadata": {
    "_uuid": "42f2afd7620931ad0661f1f37d285f4938ea88bc"
   },
   "outputs": [
    {
     "name": "stderr",
     "output_type": "stream",
     "text": [
      "C:\\Users\\HP\\Anaconda3\\lib\\site-packages\\pandas\\core\\indexing.py:189: SettingWithCopyWarning: \n",
      "A value is trying to be set on a copy of a slice from a DataFrame\n",
      "\n",
      "See the caveats in the documentation: http://pandas.pydata.org/pandas-docs/stable/indexing.html#indexing-view-versus-copy\n",
      "  self._setitem_with_indexer(indexer, value)\n"
     ]
    },
    {
     "data": {
      "image/png": "[encoded data removed]",
      "text/plain": [
       "<Figure size 864x576 with 1 Axes>"
      ]
     },
     "metadata": {},
     "output_type": "display_data"
    }
   ],
   "source": [
    "df_train['num_words'].loc[df_train['num_words']>80] = 80 #truncation for better visuals\n",
    "plt.figure(figsize=(12,8))\n",
    "sns.stripplot(y='num_words', data=df_train)\n",
    "plt.title(\"Number of words in question text\", fontsize=15)\n",
    "plt.show()"
   ]
  },
  {
   "cell_type": "code",
   "execution_count": 13,
   "metadata": {
    "_uuid": "063c05f2a37b938c2f46a651efd232ecaf5a3512"
   },
   "outputs": [
    {
     "data": {
      "text/html": [
       "<div>\n",
       "<style scoped>\n",
       "    .dataframe tbody tr th:only-of-type {\n",
       "        vertical-align: middle;\n",
       "    }\n",
       "\n",
       "    .dataframe tbody tr th {\n",
       "        vertical-align: top;\n",
       "    }\n",
       "\n",
       "    .dataframe thead th {\n",
       "        text-align: right;\n",
       "    }\n",
       "</style>\n",
       "<table border=\"1\" class=\"dataframe\">\n",
       "  <thead>\n",
       "    <tr style=\"text-align: right;\">\n",
       "      <th></th>\n",
       "      <th>qid</th>\n",
       "      <th>question_text</th>\n",
       "      <th>num_words</th>\n",
       "      <th>num_unique_words</th>\n",
       "      <th>num_chars</th>\n",
       "      <th>num_stopwords</th>\n",
       "      <th>num_punctuations</th>\n",
       "      <th>num_words_upper</th>\n",
       "      <th>num_words_title</th>\n",
       "      <th>mean_word_len</th>\n",
       "    </tr>\n",
       "  </thead>\n",
       "  <tbody>\n",
       "    <tr>\n",
       "      <th>0</th>\n",
       "      <td>00014894849d00ba98a9</td>\n",
       "      <td>My voice range is A2-C5. My chest voice goes u...</td>\n",
       "      <td>24</td>\n",
       "      <td>18</td>\n",
       "      <td>119</td>\n",
       "      <td>10</td>\n",
       "      <td>5</td>\n",
       "      <td>2</td>\n",
       "      <td>6</td>\n",
       "      <td>4.000000</td>\n",
       "    </tr>\n",
       "    <tr>\n",
       "      <th>1</th>\n",
       "      <td>000156468431f09b3cae</td>\n",
       "      <td>How much does a tutor earn in Bangalore?</td>\n",
       "      <td>8</td>\n",
       "      <td>8</td>\n",
       "      <td>40</td>\n",
       "      <td>4</td>\n",
       "      <td>1</td>\n",
       "      <td>0</td>\n",
       "      <td>2</td>\n",
       "      <td>4.125000</td>\n",
       "    </tr>\n",
       "    <tr>\n",
       "      <th>2</th>\n",
       "      <td>000227734433360e1aae</td>\n",
       "      <td>What are the best made pocket knives under $20...</td>\n",
       "      <td>9</td>\n",
       "      <td>9</td>\n",
       "      <td>52</td>\n",
       "      <td>4</td>\n",
       "      <td>3</td>\n",
       "      <td>0</td>\n",
       "      <td>1</td>\n",
       "      <td>4.888889</td>\n",
       "    </tr>\n",
       "    <tr>\n",
       "      <th>3</th>\n",
       "      <td>0005e06fbe3045bd2a92</td>\n",
       "      <td>Why would they add a hypothetical scenario tha...</td>\n",
       "      <td>27</td>\n",
       "      <td>25</td>\n",
       "      <td>149</td>\n",
       "      <td>9</td>\n",
       "      <td>2</td>\n",
       "      <td>0</td>\n",
       "      <td>2</td>\n",
       "      <td>4.555556</td>\n",
       "    </tr>\n",
       "    <tr>\n",
       "      <th>4</th>\n",
       "      <td>00068a0f7f41f50fc399</td>\n",
       "      <td>What is the dresscode for Techmahindra freshers?</td>\n",
       "      <td>7</td>\n",
       "      <td>7</td>\n",
       "      <td>48</td>\n",
       "      <td>4</td>\n",
       "      <td>1</td>\n",
       "      <td>0</td>\n",
       "      <td>2</td>\n",
       "      <td>6.000000</td>\n",
       "    </tr>\n",
       "    <tr>\n",
       "      <th>5</th>\n",
       "      <td>000a2d30e3ffd70c070d</td>\n",
       "      <td>How well are you adapting to the Trump era?</td>\n",
       "      <td>9</td>\n",
       "      <td>9</td>\n",
       "      <td>43</td>\n",
       "      <td>5</td>\n",
       "      <td>1</td>\n",
       "      <td>0</td>\n",
       "      <td>2</td>\n",
       "      <td>3.888889</td>\n",
       "    </tr>\n",
       "    <tr>\n",
       "      <th>6</th>\n",
       "      <td>000b67672ec9622ff761</td>\n",
       "      <td>What should be the last thing people do in life?</td>\n",
       "      <td>10</td>\n",
       "      <td>10</td>\n",
       "      <td>48</td>\n",
       "      <td>6</td>\n",
       "      <td>1</td>\n",
       "      <td>0</td>\n",
       "      <td>1</td>\n",
       "      <td>3.900000</td>\n",
       "    </tr>\n",
       "    <tr>\n",
       "      <th>7</th>\n",
       "      <td>000b7fb1146d712c1105</td>\n",
       "      <td>Received conditional offer for Masters in Inte...</td>\n",
       "      <td>18</td>\n",
       "      <td>18</td>\n",
       "      <td>124</td>\n",
       "      <td>7</td>\n",
       "      <td>3</td>\n",
       "      <td>2</td>\n",
       "      <td>8</td>\n",
       "      <td>5.944444</td>\n",
       "    </tr>\n",
       "    <tr>\n",
       "      <th>8</th>\n",
       "      <td>000d665a8ddc426a1907</td>\n",
       "      <td>What does appareils photo mean in French?</td>\n",
       "      <td>7</td>\n",
       "      <td>7</td>\n",
       "      <td>41</td>\n",
       "      <td>3</td>\n",
       "      <td>1</td>\n",
       "      <td>0</td>\n",
       "      <td>2</td>\n",
       "      <td>5.000000</td>\n",
       "    </tr>\n",
       "    <tr>\n",
       "      <th>9</th>\n",
       "      <td>000df6fd2229447b2969</td>\n",
       "      <td>Is there a system of Public Interest Litigatio...</td>\n",
       "      <td>11</td>\n",
       "      <td>11</td>\n",
       "      <td>64</td>\n",
       "      <td>5</td>\n",
       "      <td>3</td>\n",
       "      <td>1</td>\n",
       "      <td>5</td>\n",
       "      <td>4.909091</td>\n",
       "    </tr>\n",
       "    <tr>\n",
       "      <th>10</th>\n",
       "      <td>000e8d4169c8dc7ab5ee</td>\n",
       "      <td>What's the best weekend plans in Chennai for o...</td>\n",
       "      <td>15</td>\n",
       "      <td>14</td>\n",
       "      <td>88</td>\n",
       "      <td>6</td>\n",
       "      <td>2</td>\n",
       "      <td>0</td>\n",
       "      <td>2</td>\n",
       "      <td>4.933333</td>\n",
       "    </tr>\n",
       "    <tr>\n",
       "      <th>11</th>\n",
       "      <td>000ef78071824e781d67</td>\n",
       "      <td>How did GPS get his name?</td>\n",
       "      <td>6</td>\n",
       "      <td>6</td>\n",
       "      <td>25</td>\n",
       "      <td>3</td>\n",
       "      <td>1</td>\n",
       "      <td>1</td>\n",
       "      <td>1</td>\n",
       "      <td>3.333333</td>\n",
       "    </tr>\n",
       "    <tr>\n",
       "      <th>12</th>\n",
       "      <td>001014ae8ebec25a597a</td>\n",
       "      <td>Where can I get opt in email marketing services?</td>\n",
       "      <td>9</td>\n",
       "      <td>9</td>\n",
       "      <td>48</td>\n",
       "      <td>4</td>\n",
       "      <td>1</td>\n",
       "      <td>1</td>\n",
       "      <td>2</td>\n",
       "      <td>4.444444</td>\n",
       "    </tr>\n",
       "    <tr>\n",
       "      <th>13</th>\n",
       "      <td>0010236e0aa3ab39a282</td>\n",
       "      <td>How do perimenopause and menopause differ?</td>\n",
       "      <td>6</td>\n",
       "      <td>6</td>\n",
       "      <td>42</td>\n",
       "      <td>3</td>\n",
       "      <td>1</td>\n",
       "      <td>0</td>\n",
       "      <td>1</td>\n",
       "      <td>6.166667</td>\n",
       "    </tr>\n",
       "    <tr>\n",
       "      <th>14</th>\n",
       "      <td>00105665c8ffd3c5852a</td>\n",
       "      <td>Can a student of B.E. 1st year apply for inter...</td>\n",
       "      <td>10</td>\n",
       "      <td>10</td>\n",
       "      <td>53</td>\n",
       "      <td>4</td>\n",
       "      <td>3</td>\n",
       "      <td>1</td>\n",
       "      <td>2</td>\n",
       "      <td>4.400000</td>\n",
       "    </tr>\n",
       "    <tr>\n",
       "      <th>15</th>\n",
       "      <td>00106ef7c87fca3b77a8</td>\n",
       "      <td>What are the advantages and disadvantages of t...</td>\n",
       "      <td>12</td>\n",
       "      <td>11</td>\n",
       "      <td>67</td>\n",
       "      <td>6</td>\n",
       "      <td>1</td>\n",
       "      <td>0</td>\n",
       "      <td>1</td>\n",
       "      <td>4.666667</td>\n",
       "    </tr>\n",
       "    <tr>\n",
       "      <th>16</th>\n",
       "      <td>001441e83b68c02c30da</td>\n",
       "      <td>What is fapping?</td>\n",
       "      <td>3</td>\n",
       "      <td>3</td>\n",
       "      <td>16</td>\n",
       "      <td>2</td>\n",
       "      <td>1</td>\n",
       "      <td>0</td>\n",
       "      <td>1</td>\n",
       "      <td>4.666667</td>\n",
       "    </tr>\n",
       "    <tr>\n",
       "      <th>17</th>\n",
       "      <td>0014a461bd2a374f2eec</td>\n",
       "      <td>Is murder property theft?</td>\n",
       "      <td>4</td>\n",
       "      <td>4</td>\n",
       "      <td>25</td>\n",
       "      <td>1</td>\n",
       "      <td>1</td>\n",
       "      <td>0</td>\n",
       "      <td>1</td>\n",
       "      <td>5.500000</td>\n",
       "    </tr>\n",
       "    <tr>\n",
       "      <th>18</th>\n",
       "      <td>0017148dde8e587c0f9c</td>\n",
       "      <td>Is it possible to get a PR in Canada after on;...</td>\n",
       "      <td>15</td>\n",
       "      <td>15</td>\n",
       "      <td>74</td>\n",
       "      <td>7</td>\n",
       "      <td>2</td>\n",
       "      <td>1</td>\n",
       "      <td>2</td>\n",
       "      <td>4.000000</td>\n",
       "    </tr>\n",
       "    <tr>\n",
       "      <th>19</th>\n",
       "      <td>00175846ae0cfa2fc7d4</td>\n",
       "      <td>What should I keep in mind when debating which...</td>\n",
       "      <td>12</td>\n",
       "      <td>12</td>\n",
       "      <td>64</td>\n",
       "      <td>7</td>\n",
       "      <td>1</td>\n",
       "      <td>1</td>\n",
       "      <td>2</td>\n",
       "      <td>4.416667</td>\n",
       "    </tr>\n",
       "    <tr>\n",
       "      <th>20</th>\n",
       "      <td>0018d0ba9822bdb872b3</td>\n",
       "      <td>Is a decision tree better than logistic regres...</td>\n",
       "      <td>14</td>\n",
       "      <td>14</td>\n",
       "      <td>96</td>\n",
       "      <td>6</td>\n",
       "      <td>1</td>\n",
       "      <td>0</td>\n",
       "      <td>1</td>\n",
       "      <td>5.928571</td>\n",
       "    </tr>\n",
       "    <tr>\n",
       "      <th>21</th>\n",
       "      <td>001a492c2df37ba885d0</td>\n",
       "      <td>Is Donnie Wahlberg a baritone?</td>\n",
       "      <td>5</td>\n",
       "      <td>5</td>\n",
       "      <td>30</td>\n",
       "      <td>2</td>\n",
       "      <td>1</td>\n",
       "      <td>0</td>\n",
       "      <td>3</td>\n",
       "      <td>5.200000</td>\n",
       "    </tr>\n",
       "    <tr>\n",
       "      <th>22</th>\n",
       "      <td>001a52478cd34a11aee6</td>\n",
       "      <td>What is a form of self defense that you can te...</td>\n",
       "      <td>15</td>\n",
       "      <td>15</td>\n",
       "      <td>77</td>\n",
       "      <td>10</td>\n",
       "      <td>1</td>\n",
       "      <td>0</td>\n",
       "      <td>1</td>\n",
       "      <td>4.200000</td>\n",
       "    </tr>\n",
       "    <tr>\n",
       "      <th>23</th>\n",
       "      <td>001c132aa697402a00db</td>\n",
       "      <td>Is it okay to pluck pubic hair?</td>\n",
       "      <td>7</td>\n",
       "      <td>7</td>\n",
       "      <td>31</td>\n",
       "      <td>3</td>\n",
       "      <td>1</td>\n",
       "      <td>0</td>\n",
       "      <td>1</td>\n",
       "      <td>3.571429</td>\n",
       "    </tr>\n",
       "    <tr>\n",
       "      <th>24</th>\n",
       "      <td>001cb1f0c10c8e413418</td>\n",
       "      <td>How do I keep my hair healthy and long without...</td>\n",
       "      <td>12</td>\n",
       "      <td>12</td>\n",
       "      <td>59</td>\n",
       "      <td>6</td>\n",
       "      <td>1</td>\n",
       "      <td>1</td>\n",
       "      <td>2</td>\n",
       "      <td>4.000000</td>\n",
       "    </tr>\n",
       "    <tr>\n",
       "      <th>25</th>\n",
       "      <td>001e31e30a5762fa97fd</td>\n",
       "      <td>Are love and attention the same thing?</td>\n",
       "      <td>7</td>\n",
       "      <td>7</td>\n",
       "      <td>38</td>\n",
       "      <td>4</td>\n",
       "      <td>1</td>\n",
       "      <td>0</td>\n",
       "      <td>1</td>\n",
       "      <td>4.571429</td>\n",
       "    </tr>\n",
       "    <tr>\n",
       "      <th>26</th>\n",
       "      <td>001e50b789e8db63b7bb</td>\n",
       "      <td>My boy friend and I have very different backgr...</td>\n",
       "      <td>23</td>\n",
       "      <td>19</td>\n",
       "      <td>145</td>\n",
       "      <td>11</td>\n",
       "      <td>6</td>\n",
       "      <td>4</td>\n",
       "      <td>7</td>\n",
       "      <td>5.347826</td>\n",
       "    </tr>\n",
       "    <tr>\n",
       "      <th>27</th>\n",
       "      <td>0021ef17b8d5a2cfa678</td>\n",
       "      <td>When near the end of your life what are some t...</td>\n",
       "      <td>14</td>\n",
       "      <td>14</td>\n",
       "      <td>75</td>\n",
       "      <td>8</td>\n",
       "      <td>1</td>\n",
       "      <td>0</td>\n",
       "      <td>1</td>\n",
       "      <td>4.428571</td>\n",
       "    </tr>\n",
       "    <tr>\n",
       "      <th>28</th>\n",
       "      <td>00262cae7eb54e29dce7</td>\n",
       "      <td>How did Justice Anthony Kennedy have so much p...</td>\n",
       "      <td>9</td>\n",
       "      <td>9</td>\n",
       "      <td>51</td>\n",
       "      <td>4</td>\n",
       "      <td>1</td>\n",
       "      <td>0</td>\n",
       "      <td>4</td>\n",
       "      <td>4.777778</td>\n",
       "    </tr>\n",
       "    <tr>\n",
       "      <th>29</th>\n",
       "      <td>00277400ab4bae3246b0</td>\n",
       "      <td>What are the important uses of lanthanum?</td>\n",
       "      <td>7</td>\n",
       "      <td>7</td>\n",
       "      <td>41</td>\n",
       "      <td>4</td>\n",
       "      <td>1</td>\n",
       "      <td>0</td>\n",
       "      <td>1</td>\n",
       "      <td>5.000000</td>\n",
       "    </tr>\n",
       "    <tr>\n",
       "      <th>...</th>\n",
       "      <td>...</td>\n",
       "      <td>...</td>\n",
       "      <td>...</td>\n",
       "      <td>...</td>\n",
       "      <td>...</td>\n",
       "      <td>...</td>\n",
       "      <td>...</td>\n",
       "      <td>...</td>\n",
       "      <td>...</td>\n",
       "      <td>...</td>\n",
       "    </tr>\n",
       "    <tr>\n",
       "      <th>56340</th>\n",
       "      <td>ffe1490e6c333cedd2f7</td>\n",
       "      <td>For the Cambridge Advanced Exam, do I need to ...</td>\n",
       "      <td>29</td>\n",
       "      <td>24</td>\n",
       "      <td>139</td>\n",
       "      <td>16</td>\n",
       "      <td>5</td>\n",
       "      <td>3</td>\n",
       "      <td>8</td>\n",
       "      <td>3.827586</td>\n",
       "    </tr>\n",
       "    <tr>\n",
       "      <th>56341</th>\n",
       "      <td>ffe36c4e99a0009cd0cb</td>\n",
       "      <td>What are the the investment opportunities today?</td>\n",
       "      <td>7</td>\n",
       "      <td>6</td>\n",
       "      <td>48</td>\n",
       "      <td>4</td>\n",
       "      <td>1</td>\n",
       "      <td>0</td>\n",
       "      <td>1</td>\n",
       "      <td>6.000000</td>\n",
       "    </tr>\n",
       "    <tr>\n",
       "      <th>56342</th>\n",
       "      <td>ffe3e5dac8b60c486704</td>\n",
       "      <td>I'm a pedophile who's sexually aroused by pret...</td>\n",
       "      <td>25</td>\n",
       "      <td>22</td>\n",
       "      <td>143</td>\n",
       "      <td>7</td>\n",
       "      <td>8</td>\n",
       "      <td>0</td>\n",
       "      <td>2</td>\n",
       "      <td>4.760000</td>\n",
       "    </tr>\n",
       "    <tr>\n",
       "      <th>56343</th>\n",
       "      <td>ffe4e49cea5001b06de0</td>\n",
       "      <td>How easy or difficult is it to earn your bread?</td>\n",
       "      <td>10</td>\n",
       "      <td>10</td>\n",
       "      <td>47</td>\n",
       "      <td>6</td>\n",
       "      <td>1</td>\n",
       "      <td>0</td>\n",
       "      <td>1</td>\n",
       "      <td>3.800000</td>\n",
       "    </tr>\n",
       "    <tr>\n",
       "      <th>56344</th>\n",
       "      <td>ffe5333ee3855bf73bdd</td>\n",
       "      <td>What is a rifle and what is a carbine?</td>\n",
       "      <td>9</td>\n",
       "      <td>7</td>\n",
       "      <td>38</td>\n",
       "      <td>7</td>\n",
       "      <td>1</td>\n",
       "      <td>0</td>\n",
       "      <td>1</td>\n",
       "      <td>3.333333</td>\n",
       "    </tr>\n",
       "    <tr>\n",
       "      <th>56345</th>\n",
       "      <td>ffe7a676812dfe4926c3</td>\n",
       "      <td>Quora says I violated their policy of politene...</td>\n",
       "      <td>34</td>\n",
       "      <td>28</td>\n",
       "      <td>188</td>\n",
       "      <td>15</td>\n",
       "      <td>4</td>\n",
       "      <td>3</td>\n",
       "      <td>6</td>\n",
       "      <td>4.558824</td>\n",
       "    </tr>\n",
       "    <tr>\n",
       "      <th>56346</th>\n",
       "      <td>ffe96f277e3baaddb460</td>\n",
       "      <td>Is it legal for a bank in India to charge for ...</td>\n",
       "      <td>17</td>\n",
       "      <td>15</td>\n",
       "      <td>85</td>\n",
       "      <td>8</td>\n",
       "      <td>1</td>\n",
       "      <td>0</td>\n",
       "      <td>2</td>\n",
       "      <td>4.058824</td>\n",
       "    </tr>\n",
       "    <tr>\n",
       "      <th>56347</th>\n",
       "      <td>ffec63bf2ea2d0d43c22</td>\n",
       "      <td>What causes a small lump on my wrist?</td>\n",
       "      <td>8</td>\n",
       "      <td>8</td>\n",
       "      <td>37</td>\n",
       "      <td>4</td>\n",
       "      <td>1</td>\n",
       "      <td>0</td>\n",
       "      <td>1</td>\n",
       "      <td>3.750000</td>\n",
       "    </tr>\n",
       "    <tr>\n",
       "      <th>56348</th>\n",
       "      <td>ffec7764880d6b114176</td>\n",
       "      <td>What should a person do when he/she is complet...</td>\n",
       "      <td>10</td>\n",
       "      <td>10</td>\n",
       "      <td>56</td>\n",
       "      <td>6</td>\n",
       "      <td>2</td>\n",
       "      <td>0</td>\n",
       "      <td>1</td>\n",
       "      <td>4.700000</td>\n",
       "    </tr>\n",
       "    <tr>\n",
       "      <th>56349</th>\n",
       "      <td>ffecb50df50c50556d8f</td>\n",
       "      <td>Is it legal in the USA to make a Malibu rum ha...</td>\n",
       "      <td>20</td>\n",
       "      <td>20</td>\n",
       "      <td>98</td>\n",
       "      <td>10</td>\n",
       "      <td>1</td>\n",
       "      <td>1</td>\n",
       "      <td>2</td>\n",
       "      <td>3.950000</td>\n",
       "    </tr>\n",
       "    <tr>\n",
       "      <th>56350</th>\n",
       "      <td>ffeeea70c26526195b55</td>\n",
       "      <td>Is proper care of the cerebral palsy possible?</td>\n",
       "      <td>8</td>\n",
       "      <td>8</td>\n",
       "      <td>46</td>\n",
       "      <td>3</td>\n",
       "      <td>1</td>\n",
       "      <td>0</td>\n",
       "      <td>1</td>\n",
       "      <td>4.875000</td>\n",
       "    </tr>\n",
       "    <tr>\n",
       "      <th>56351</th>\n",
       "      <td>ffef23c893372ee432f9</td>\n",
       "      <td>How many words have shifted from the passive l...</td>\n",
       "      <td>13</td>\n",
       "      <td>12</td>\n",
       "      <td>69</td>\n",
       "      <td>6</td>\n",
       "      <td>1</td>\n",
       "      <td>0</td>\n",
       "      <td>1</td>\n",
       "      <td>4.384615</td>\n",
       "    </tr>\n",
       "    <tr>\n",
       "      <th>56352</th>\n",
       "      <td>ffefbc6cbc7b9adfc7ea</td>\n",
       "      <td>What would you expect from a very good proposa...</td>\n",
       "      <td>21</td>\n",
       "      <td>21</td>\n",
       "      <td>126</td>\n",
       "      <td>9</td>\n",
       "      <td>4</td>\n",
       "      <td>0</td>\n",
       "      <td>2</td>\n",
       "      <td>5.047619</td>\n",
       "    </tr>\n",
       "    <tr>\n",
       "      <th>56353</th>\n",
       "      <td>fff129834ba83186f1e6</td>\n",
       "      <td>What are some electrical outlets needed in Eng...</td>\n",
       "      <td>8</td>\n",
       "      <td>8</td>\n",
       "      <td>51</td>\n",
       "      <td>4</td>\n",
       "      <td>1</td>\n",
       "      <td>0</td>\n",
       "      <td>2</td>\n",
       "      <td>5.500000</td>\n",
       "    </tr>\n",
       "    <tr>\n",
       "      <th>56354</th>\n",
       "      <td>fff1f11c2e36bb79c92d</td>\n",
       "      <td>What courses can train a person on charisma in...</td>\n",
       "      <td>12</td>\n",
       "      <td>11</td>\n",
       "      <td>66</td>\n",
       "      <td>6</td>\n",
       "      <td>1</td>\n",
       "      <td>0</td>\n",
       "      <td>2</td>\n",
       "      <td>4.583333</td>\n",
       "    </tr>\n",
       "    <tr>\n",
       "      <th>56355</th>\n",
       "      <td>fff1f6a405468d63be8b</td>\n",
       "      <td>How do you make your (at home) massage therapi...</td>\n",
       "      <td>26</td>\n",
       "      <td>23</td>\n",
       "      <td>151</td>\n",
       "      <td>12</td>\n",
       "      <td>4</td>\n",
       "      <td>0</td>\n",
       "      <td>2</td>\n",
       "      <td>4.846154</td>\n",
       "    </tr>\n",
       "    <tr>\n",
       "      <th>56356</th>\n",
       "      <td>fff20729419cc44c222b</td>\n",
       "      <td>What has someone done that made you feel valid...</td>\n",
       "      <td>13</td>\n",
       "      <td>13</td>\n",
       "      <td>75</td>\n",
       "      <td>6</td>\n",
       "      <td>1</td>\n",
       "      <td>0</td>\n",
       "      <td>1</td>\n",
       "      <td>4.846154</td>\n",
       "    </tr>\n",
       "    <tr>\n",
       "      <th>56357</th>\n",
       "      <td>fff21d679026c090dbc2</td>\n",
       "      <td>Did the WW1 gas masks actualy work or was it a...</td>\n",
       "      <td>21</td>\n",
       "      <td>20</td>\n",
       "      <td>92</td>\n",
       "      <td>12</td>\n",
       "      <td>1</td>\n",
       "      <td>1</td>\n",
       "      <td>1</td>\n",
       "      <td>3.428571</td>\n",
       "    </tr>\n",
       "    <tr>\n",
       "      <th>56358</th>\n",
       "      <td>fff3197749c50a48833c</td>\n",
       "      <td>When were the earliest cosmetic products used?</td>\n",
       "      <td>7</td>\n",
       "      <td>7</td>\n",
       "      <td>46</td>\n",
       "      <td>3</td>\n",
       "      <td>1</td>\n",
       "      <td>0</td>\n",
       "      <td>1</td>\n",
       "      <td>5.714286</td>\n",
       "    </tr>\n",
       "    <tr>\n",
       "      <th>56359</th>\n",
       "      <td>fff3a8510e7177c68b82</td>\n",
       "      <td>Why, if the body is \"disconnected\" when we are...</td>\n",
       "      <td>19</td>\n",
       "      <td>17</td>\n",
       "      <td>104</td>\n",
       "      <td>11</td>\n",
       "      <td>6</td>\n",
       "      <td>0</td>\n",
       "      <td>1</td>\n",
       "      <td>4.526316</td>\n",
       "    </tr>\n",
       "    <tr>\n",
       "      <th>56360</th>\n",
       "      <td>fff48bceec3d565dce42</td>\n",
       "      <td>What's your true calling and are you working t...</td>\n",
       "      <td>13</td>\n",
       "      <td>13</td>\n",
       "      <td>68</td>\n",
       "      <td>5</td>\n",
       "      <td>4</td>\n",
       "      <td>0</td>\n",
       "      <td>1</td>\n",
       "      <td>4.307692</td>\n",
       "    </tr>\n",
       "    <tr>\n",
       "      <th>56361</th>\n",
       "      <td>fff5b5552fbb05a98f8b</td>\n",
       "      <td>Why does Quora hide short answers to yes or no...</td>\n",
       "      <td>11</td>\n",
       "      <td>11</td>\n",
       "      <td>57</td>\n",
       "      <td>5</td>\n",
       "      <td>1</td>\n",
       "      <td>0</td>\n",
       "      <td>2</td>\n",
       "      <td>4.272727</td>\n",
       "    </tr>\n",
       "    <tr>\n",
       "      <th>56362</th>\n",
       "      <td>fff98b13ab94f1a5d37f</td>\n",
       "      <td>What’s the funniest thing to ever happen to you?</td>\n",
       "      <td>9</td>\n",
       "      <td>8</td>\n",
       "      <td>48</td>\n",
       "      <td>3</td>\n",
       "      <td>1</td>\n",
       "      <td>0</td>\n",
       "      <td>0</td>\n",
       "      <td>4.444444</td>\n",
       "    </tr>\n",
       "    <tr>\n",
       "      <th>56363</th>\n",
       "      <td>fffb418e5e087182294d</td>\n",
       "      <td>How can I make squid tender?</td>\n",
       "      <td>6</td>\n",
       "      <td>6</td>\n",
       "      <td>28</td>\n",
       "      <td>3</td>\n",
       "      <td>1</td>\n",
       "      <td>1</td>\n",
       "      <td>2</td>\n",
       "      <td>3.833333</td>\n",
       "    </tr>\n",
       "    <tr>\n",
       "      <th>56364</th>\n",
       "      <td>fffc3df92967fc1ff426</td>\n",
       "      <td>Why did England become the biggest colonial po...</td>\n",
       "      <td>16</td>\n",
       "      <td>16</td>\n",
       "      <td>95</td>\n",
       "      <td>6</td>\n",
       "      <td>2</td>\n",
       "      <td>0</td>\n",
       "      <td>3</td>\n",
       "      <td>5.000000</td>\n",
       "    </tr>\n",
       "    <tr>\n",
       "      <th>56365</th>\n",
       "      <td>fffcf200619ef3426fc5</td>\n",
       "      <td>Would I owe Queen Elizabeth II, if I could som...</td>\n",
       "      <td>21</td>\n",
       "      <td>20</td>\n",
       "      <td>122</td>\n",
       "      <td>8</td>\n",
       "      <td>3</td>\n",
       "      <td>3</td>\n",
       "      <td>5</td>\n",
       "      <td>4.857143</td>\n",
       "    </tr>\n",
       "    <tr>\n",
       "      <th>56366</th>\n",
       "      <td>fffd424460c17be3f503</td>\n",
       "      <td>Is 6740 a good rank in Manipal online test?</td>\n",
       "      <td>9</td>\n",
       "      <td>9</td>\n",
       "      <td>43</td>\n",
       "      <td>3</td>\n",
       "      <td>1</td>\n",
       "      <td>0</td>\n",
       "      <td>2</td>\n",
       "      <td>3.888889</td>\n",
       "    </tr>\n",
       "    <tr>\n",
       "      <th>56367</th>\n",
       "      <td>fffe18f21e5e070e55de</td>\n",
       "      <td>What would you like DC to do to make their mov...</td>\n",
       "      <td>12</td>\n",
       "      <td>11</td>\n",
       "      <td>57</td>\n",
       "      <td>6</td>\n",
       "      <td>1</td>\n",
       "      <td>1</td>\n",
       "      <td>1</td>\n",
       "      <td>3.833333</td>\n",
       "    </tr>\n",
       "    <tr>\n",
       "      <th>56368</th>\n",
       "      <td>fffe4dd6bb7fd8fc1924</td>\n",
       "      <td>Do you think our system is fair? Consider fact...</td>\n",
       "      <td>21</td>\n",
       "      <td>20</td>\n",
       "      <td>135</td>\n",
       "      <td>10</td>\n",
       "      <td>6</td>\n",
       "      <td>0</td>\n",
       "      <td>2</td>\n",
       "      <td>5.476190</td>\n",
       "    </tr>\n",
       "    <tr>\n",
       "      <th>56369</th>\n",
       "      <td>fffed08be2626f74b139</td>\n",
       "      <td>Why do all the stupid people I know tend to be...</td>\n",
       "      <td>12</td>\n",
       "      <td>12</td>\n",
       "      <td>57</td>\n",
       "      <td>7</td>\n",
       "      <td>2</td>\n",
       "      <td>1</td>\n",
       "      <td>2</td>\n",
       "      <td>3.833333</td>\n",
       "    </tr>\n",
       "  </tbody>\n",
       "</table>\n",
       "<p>56370 rows × 10 columns</p>\n",
       "</div>"
      ],
      "text/plain": [
       "                        qid  \\\n",
       "0      00014894849d00ba98a9   \n",
       "1      000156468431f09b3cae   \n",
       "2      000227734433360e1aae   \n",
       "3      0005e06fbe3045bd2a92   \n",
       "4      00068a0f7f41f50fc399   \n",
       "5      000a2d30e3ffd70c070d   \n",
       "6      000b67672ec9622ff761   \n",
       "7      000b7fb1146d712c1105   \n",
       "8      000d665a8ddc426a1907   \n",
       "9      000df6fd2229447b2969   \n",
       "10     000e8d4169c8dc7ab5ee   \n",
       "11     000ef78071824e781d67   \n",
       "12     001014ae8ebec25a597a   \n",
       "13     0010236e0aa3ab39a282   \n",
       "14     00105665c8ffd3c5852a   \n",
       "15     00106ef7c87fca3b77a8   \n",
       "16     001441e83b68c02c30da   \n",
       "17     0014a461bd2a374f2eec   \n",
       "18     0017148dde8e587c0f9c   \n",
       "19     00175846ae0cfa2fc7d4   \n",
       "20     0018d0ba9822bdb872b3   \n",
       "21     001a492c2df37ba885d0   \n",
       "22     001a52478cd34a11aee6   \n",
       "23     001c132aa697402a00db   \n",
       "24     001cb1f0c10c8e413418   \n",
       "25     001e31e30a5762fa97fd   \n",
       "26     001e50b789e8db63b7bb   \n",
       "27     0021ef17b8d5a2cfa678   \n",
       "28     00262cae7eb54e29dce7   \n",
       "29     00277400ab4bae3246b0   \n",
       "...                     ...   \n",
       "56340  ffe1490e6c333cedd2f7   \n",
       "56341  ffe36c4e99a0009cd0cb   \n",
       "56342  ffe3e5dac8b60c486704   \n",
       "56343  ffe4e49cea5001b06de0   \n",
       "56344  ffe5333ee3855bf73bdd   \n",
       "56345  ffe7a676812dfe4926c3   \n",
       "56346  ffe96f277e3baaddb460   \n",
       "56347  ffec63bf2ea2d0d43c22   \n",
       "56348  ffec7764880d6b114176   \n",
       "56349  ffecb50df50c50556d8f   \n",
       "56350  ffeeea70c26526195b55   \n",
       "56351  ffef23c893372ee432f9   \n",
       "56352  ffefbc6cbc7b9adfc7ea   \n",
       "56353  fff129834ba83186f1e6   \n",
       "56354  fff1f11c2e36bb79c92d   \n",
       "56355  fff1f6a405468d63be8b   \n",
       "56356  fff20729419cc44c222b   \n",
       "56357  fff21d679026c090dbc2   \n",
       "56358  fff3197749c50a48833c   \n",
       "56359  fff3a8510e7177c68b82   \n",
       "56360  fff48bceec3d565dce42   \n",
       "56361  fff5b5552fbb05a98f8b   \n",
       "56362  fff98b13ab94f1a5d37f   \n",
       "56363  fffb418e5e087182294d   \n",
       "56364  fffc3df92967fc1ff426   \n",
       "56365  fffcf200619ef3426fc5   \n",
       "56366  fffd424460c17be3f503   \n",
       "56367  fffe18f21e5e070e55de   \n",
       "56368  fffe4dd6bb7fd8fc1924   \n",
       "56369  fffed08be2626f74b139   \n",
       "\n",
       "                                           question_text  num_words  \\\n",
       "0      My voice range is A2-C5. My chest voice goes u...         24   \n",
       "1               How much does a tutor earn in Bangalore?          8   \n",
       "2      What are the best made pocket knives under $20...          9   \n",
       "3      Why would they add a hypothetical scenario tha...         27   \n",
       "4       What is the dresscode for Techmahindra freshers?          7   \n",
       "5            How well are you adapting to the Trump era?          9   \n",
       "6       What should be the last thing people do in life?         10   \n",
       "7      Received conditional offer for Masters in Inte...         18   \n",
       "8              What does appareils photo mean in French?          7   \n",
       "9      Is there a system of Public Interest Litigatio...         11   \n",
       "10     What's the best weekend plans in Chennai for o...         15   \n",
       "11                             How did GPS get his name?          6   \n",
       "12      Where can I get opt in email marketing services?          9   \n",
       "13            How do perimenopause and menopause differ?          6   \n",
       "14     Can a student of B.E. 1st year apply for inter...         10   \n",
       "15     What are the advantages and disadvantages of t...         12   \n",
       "16                                      What is fapping?          3   \n",
       "17                             Is murder property theft?          4   \n",
       "18     Is it possible to get a PR in Canada after on;...         15   \n",
       "19     What should I keep in mind when debating which...         12   \n",
       "20     Is a decision tree better than logistic regres...         14   \n",
       "21                        Is Donnie Wahlberg a baritone?          5   \n",
       "22     What is a form of self defense that you can te...         15   \n",
       "23                       Is it okay to pluck pubic hair?          7   \n",
       "24     How do I keep my hair healthy and long without...         12   \n",
       "25                Are love and attention the same thing?          7   \n",
       "26     My boy friend and I have very different backgr...         23   \n",
       "27     When near the end of your life what are some t...         14   \n",
       "28     How did Justice Anthony Kennedy have so much p...          9   \n",
       "29             What are the important uses of lanthanum?          7   \n",
       "...                                                  ...        ...   \n",
       "56340  For the Cambridge Advanced Exam, do I need to ...         29   \n",
       "56341   What are the the investment opportunities today?          7   \n",
       "56342  I'm a pedophile who's sexually aroused by pret...         25   \n",
       "56343    How easy or difficult is it to earn your bread?         10   \n",
       "56344             What is a rifle and what is a carbine?          9   \n",
       "56345  Quora says I violated their policy of politene...         34   \n",
       "56346  Is it legal for a bank in India to charge for ...         17   \n",
       "56347              What causes a small lump on my wrist?          8   \n",
       "56348  What should a person do when he/she is complet...         10   \n",
       "56349  Is it legal in the USA to make a Malibu rum ha...         20   \n",
       "56350     Is proper care of the cerebral palsy possible?          8   \n",
       "56351  How many words have shifted from the passive l...         13   \n",
       "56352  What would you expect from a very good proposa...         21   \n",
       "56353  What are some electrical outlets needed in Eng...          8   \n",
       "56354  What courses can train a person on charisma in...         12   \n",
       "56355  How do you make your (at home) massage therapi...         26   \n",
       "56356  What has someone done that made you feel valid...         13   \n",
       "56357  Did the WW1 gas masks actualy work or was it a...         21   \n",
       "56358     When were the earliest cosmetic products used?          7   \n",
       "56359  Why, if the body is \"disconnected\" when we are...         19   \n",
       "56360  What's your true calling and are you working t...         13   \n",
       "56361  Why does Quora hide short answers to yes or no...         11   \n",
       "56362   What’s the funniest thing to ever happen to you?          9   \n",
       "56363                       How can I make squid tender?          6   \n",
       "56364  Why did England become the biggest colonial po...         16   \n",
       "56365  Would I owe Queen Elizabeth II, if I could som...         21   \n",
       "56366        Is 6740 a good rank in Manipal online test?          9   \n",
       "56367  What would you like DC to do to make their mov...         12   \n",
       "56368  Do you think our system is fair? Consider fact...         21   \n",
       "56369  Why do all the stupid people I know tend to be...         12   \n",
       "\n",
       "       num_unique_words  num_chars  num_stopwords  num_punctuations  \\\n",
       "0                    18        119             10                 5   \n",
       "1                     8         40              4                 1   \n",
       "2                     9         52              4                 3   \n",
       "3                    25        149              9                 2   \n",
       "4                     7         48              4                 1   \n",
       "5                     9         43              5                 1   \n",
       "6                    10         48              6                 1   \n",
       "7                    18        124              7                 3   \n",
       "8                     7         41              3                 1   \n",
       "9                    11         64              5                 3   \n",
       "10                   14         88              6                 2   \n",
       "11                    6         25              3                 1   \n",
       "12                    9         48              4                 1   \n",
       "13                    6         42              3                 1   \n",
       "14                   10         53              4                 3   \n",
       "15                   11         67              6                 1   \n",
       "16                    3         16              2                 1   \n",
       "17                    4         25              1                 1   \n",
       "18                   15         74              7                 2   \n",
       "19                   12         64              7                 1   \n",
       "20                   14         96              6                 1   \n",
       "21                    5         30              2                 1   \n",
       "22                   15         77             10                 1   \n",
       "23                    7         31              3                 1   \n",
       "24                   12         59              6                 1   \n",
       "25                    7         38              4                 1   \n",
       "26                   19        145             11                 6   \n",
       "27                   14         75              8                 1   \n",
       "28                    9         51              4                 1   \n",
       "29                    7         41              4                 1   \n",
       "...                 ...        ...            ...               ...   \n",
       "56340                24        139             16                 5   \n",
       "56341                 6         48              4                 1   \n",
       "56342                22        143              7                 8   \n",
       "56343                10         47              6                 1   \n",
       "56344                 7         38              7                 1   \n",
       "56345                28        188             15                 4   \n",
       "56346                15         85              8                 1   \n",
       "56347                 8         37              4                 1   \n",
       "56348                10         56              6                 2   \n",
       "56349                20         98             10                 1   \n",
       "56350                 8         46              3                 1   \n",
       "56351                12         69              6                 1   \n",
       "56352                21        126              9                 4   \n",
       "56353                 8         51              4                 1   \n",
       "56354                11         66              6                 1   \n",
       "56355                23        151             12                 4   \n",
       "56356                13         75              6                 1   \n",
       "56357                20         92             12                 1   \n",
       "56358                 7         46              3                 1   \n",
       "56359                17        104             11                 6   \n",
       "56360                13         68              5                 4   \n",
       "56361                11         57              5                 1   \n",
       "56362                 8         48              3                 1   \n",
       "56363                 6         28              3                 1   \n",
       "56364                16         95              6                 2   \n",
       "56365                20        122              8                 3   \n",
       "56366                 9         43              3                 1   \n",
       "56367                11         57              6                 1   \n",
       "56368                20        135             10                 6   \n",
       "56369                12         57              7                 2   \n",
       "\n",
       "       num_words_upper  num_words_title  mean_word_len  \n",
       "0                    2                6       4.000000  \n",
       "1                    0                2       4.125000  \n",
       "2                    0                1       4.888889  \n",
       "3                    0                2       4.555556  \n",
       "4                    0                2       6.000000  \n",
       "5                    0                2       3.888889  \n",
       "6                    0                1       3.900000  \n",
       "7                    2                8       5.944444  \n",
       "8                    0                2       5.000000  \n",
       "9                    1                5       4.909091  \n",
       "10                   0                2       4.933333  \n",
       "11                   1                1       3.333333  \n",
       "12                   1                2       4.444444  \n",
       "13                   0                1       6.166667  \n",
       "14                   1                2       4.400000  \n",
       "15                   0                1       4.666667  \n",
       "16                   0                1       4.666667  \n",
       "17                   0                1       5.500000  \n",
       "18                   1                2       4.000000  \n",
       "19                   1                2       4.416667  \n",
       "20                   0                1       5.928571  \n",
       "21                   0                3       5.200000  \n",
       "22                   0                1       4.200000  \n",
       "23                   0                1       3.571429  \n",
       "24                   1                2       4.000000  \n",
       "25                   0                1       4.571429  \n",
       "26                   4                7       5.347826  \n",
       "27                   0                1       4.428571  \n",
       "28                   0                4       4.777778  \n",
       "29                   0                1       5.000000  \n",
       "...                ...              ...            ...  \n",
       "56340                3                8       3.827586  \n",
       "56341                0                1       6.000000  \n",
       "56342                0                2       4.760000  \n",
       "56343                0                1       3.800000  \n",
       "56344                0                1       3.333333  \n",
       "56345                3                6       4.558824  \n",
       "56346                0                2       4.058824  \n",
       "56347                0                1       3.750000  \n",
       "56348                0                1       4.700000  \n",
       "56349                1                2       3.950000  \n",
       "56350                0                1       4.875000  \n",
       "56351                0                1       4.384615  \n",
       "56352                0                2       5.047619  \n",
       "56353                0                2       5.500000  \n",
       "56354                0                2       4.583333  \n",
       "56355                0                2       4.846154  \n",
       "56356                0                1       4.846154  \n",
       "56357                1                1       3.428571  \n",
       "56358                0                1       5.714286  \n",
       "56359                0                1       4.526316  \n",
       "56360                0                1       4.307692  \n",
       "56361                0                2       4.272727  \n",
       "56362                0                0       4.444444  \n",
       "56363                1                2       3.833333  \n",
       "56364                0                3       5.000000  \n",
       "56365                3                5       4.857143  \n",
       "56366                0                2       3.888889  \n",
       "56367                1                1       3.833333  \n",
       "56368                0                2       5.476190  \n",
       "56369                1                2       3.833333  \n",
       "\n",
       "[56370 rows x 10 columns]"
      ]
     },
     "execution_count": 13,
     "metadata": {},
     "output_type": "execute_result"
    }
   ],
   "source": [
    "df_test"
   ]
  },
  {
   "cell_type": "code",
   "execution_count": 14,
   "metadata": {
    "_uuid": "4f04228d82962cf6a711e5eb1b0209ca2ae098f3"
   },
   "outputs": [],
   "source": [
    "#y_train= df_train['qid'].values\n",
    "#y_test=  df_test['qid'].values\n",
    "y_train= df_train['target'].values\n",
    "X_train=df_train.drop(['qid','question_text','target'],axis=1)\n",
    "X_test=df_test.drop(['qid','question_text'],axis=1)"
   ]
  },
  {
   "cell_type": "markdown",
   "metadata": {
    "_uuid": "041995df066946a6240f24fc5f8b22a4861760c5"
   },
   "source": [
    "### Training the Model"
   ]
  },
  {
   "cell_type": "code",
   "execution_count": 15,
   "metadata": {
    "_uuid": "28b4d8bd511574d7429a6a799e8dc27efe96e6b6"
   },
   "outputs": [
    {
     "data": {
      "text/plain": [
       "DecisionTreeClassifier(class_weight=None, criterion='entropy', max_depth=3,\n",
       "            max_features=None, max_leaf_nodes=None,\n",
       "            min_impurity_decrease=0.0, min_impurity_split=None,\n",
       "            min_samples_leaf=1, min_samples_split=2,\n",
       "            min_weight_fraction_leaf=0.0, presort=False, random_state=42,\n",
       "            splitter='best')"
      ]
     },
     "execution_count": 15,
     "metadata": {},
     "output_type": "execute_result"
    }
   ],
   "source": [
    "from sklearn import tree\n",
    "my_tree_one = tree.DecisionTreeClassifier(criterion=\"entropy\", max_depth=3, random_state=42)\n",
    "my_tree_one"
   ]
  },
  {
   "cell_type": "code",
   "execution_count": 16,
   "metadata": {
    "_uuid": "252dda47900ec4829e939e9d017fb9bd5925bde4"
   },
   "outputs": [
    {
     "data": {
      "text/plain": [
       "DecisionTreeClassifier(class_weight=None, criterion='entropy', max_depth=3,\n",
       "            max_features=None, max_leaf_nodes=None,\n",
       "            min_impurity_decrease=0.0, min_impurity_split=None,\n",
       "            min_samples_leaf=1, min_samples_split=2,\n",
       "            min_weight_fraction_leaf=0.0, presort=False, random_state=42,\n",
       "            splitter='best')"
      ]
     },
     "execution_count": 16,
     "metadata": {},
     "output_type": "execute_result"
    }
   ],
   "source": [
    "my_tree_one.fit(X_train,y_train)"
   ]
  },
  {
   "cell_type": "markdown",
   "metadata": {
    "_uuid": "6a1cb4bdfb00e1a80b268af8b9907066ea0e828a"
   },
   "source": [
    "### feature Importance value"
   ]
  },
  {
   "cell_type": "code",
   "execution_count": 17,
   "metadata": {
    "_uuid": "7baf65b5cfdcbb709b2b1c368ce68906b4a48d42"
   },
   "outputs": [
    {
     "data": {
      "text/plain": [
       "[('num_words', 0.0),\n",
       " ('num_unique_words', 0.0),\n",
       " ('num_chars', 0.6158981722695697),\n",
       " ('num_stopwords', 0.0),\n",
       " ('num_punctuations', 0.014716962404121403),\n",
       " ('num_words_upper', 0.24088811382442732),\n",
       " ('num_words_title', 0.1284967515018817),\n",
       " ('mean_word_len', 0.0)]"
      ]
     },
     "execution_count": 17,
     "metadata": {},
     "output_type": "execute_result"
    }
   ],
   "source": [
    "list(zip(X_train.columns,my_tree_one.feature_importances_))"
   ]
  },
  {
   "cell_type": "code",
   "execution_count": 18,
   "metadata": {
    "_uuid": "31f4c82358bb98ad8a5d8907ae9dae0271307c31"
   },
   "outputs": [
    {
     "name": "stdout",
     "output_type": "stream",
     "text": [
      "0.9381766152851283\n"
     ]
    }
   ],
   "source": [
    "# The accuracy of the model\n",
    "print(my_tree_one.score(X_train, y_train))"
   ]
  },
  {
   "cell_type": "code",
   "execution_count": 19,
   "metadata": {
    "_uuid": "69284f94556ac80f94473c2bab3e8d507f35be5e"
   },
   "outputs": [],
   "source": [
    "# Predictions from Decision Tree Model\n",
    "y_pred = my_tree_one.predict(X_test)"
   ]
  },
  {
   "cell_type": "markdown",
   "metadata": {
    "_uuid": "2471e2da326ee9321548af8e324613ceae5a9242"
   },
   "source": [
    " ### <font color=\"Green\">2. Random Forest</font>"
   ]
  },
  {
   "cell_type": "code",
   "execution_count": 20,
   "metadata": {
    "_uuid": "63d21b038b650ce723e888f41b3eca41ba285867"
   },
   "outputs": [],
   "source": [
    "# Building and fitting Random Forest\n",
    "from sklearn.ensemble import RandomForestClassifier\n",
    "\n",
    "forest_one = RandomForestClassifier(max_depth = 10, n_estimators = 100, random_state = 1)\n",
    "\n",
    "# Fitting the model on Train Data\n",
    "my_forest = forest_one.fit(X_train, y_train)"
   ]
  },
  {
   "cell_type": "code",
   "execution_count": 21,
   "metadata": {
    "_uuid": "b1e9c3833bced1e66fdfe919bf429cf59422f80a"
   },
   "outputs": [
    {
     "name": "stdout",
     "output_type": "stream",
     "text": [
      "0.9383847487538614\n"
     ]
    }
   ],
   "source": [
    "# Print the accuracy score of the fitted random forest\n",
    "print(my_forest.score(X_train, y_train))"
   ]
  },
  {
   "cell_type": "code",
   "execution_count": 22,
   "metadata": {
    "_uuid": "39ba6210b88dd6d85a68fac6346299ff07bad3f6"
   },
   "outputs": [],
   "source": [
    "# Making predictions of test data\n",
    "pred_for = my_forest.predict(X_test)"
   ]
  },
  {
   "cell_type": "code",
   "execution_count": 23,
   "metadata": {
    "_uuid": "d2865d1afb71387e31c9aad729dc689f00c33749",
    "scrolled": true
   },
   "outputs": [
    {
     "data": {
      "text/plain": [
       "[('num_words', 0.09828691032248027),\n",
       " ('num_unique_words', 0.12516168781060208),\n",
       " ('num_chars', 0.22536540219459014),\n",
       " ('num_stopwords', 0.06814608718080814),\n",
       " ('num_punctuations', 0.04056814705818677),\n",
       " ('num_words_upper', 0.15779252918738934),\n",
       " ('num_words_title', 0.18139140465890524),\n",
       " ('mean_word_len', 0.10328783158703819)]"
      ]
     },
     "execution_count": 23,
     "metadata": {},
     "output_type": "execute_result"
    }
   ],
   "source": [
    "list(zip(X_train.columns,my_forest.feature_importances_))"
   ]
  },
  {
   "cell_type": "markdown",
   "metadata": {
    "_uuid": "876addd785ccb4c4b2abd47cdff594f005e2d330"
   },
   "source": [
    " ### <font color=\"Green\">3. Grid Search</font>"
   ]
  },
  {
   "cell_type": "code",
   "execution_count": 24,
   "metadata": {
    "_uuid": "7be0e27442b83e4323a4c7b5f75725183dc33e97"
   },
   "outputs": [],
   "source": [
    "# Different parameters we want to test\n",
    "\n",
    "max_depth = [3,5,7] \n",
    "criterion = ['gini', 'entropy']"
   ]
  },
  {
   "cell_type": "code",
   "execution_count": 25,
   "metadata": {
    "_uuid": "70c2de3841caceb4cba864aca5231b1734a7a139"
   },
   "outputs": [
    {
     "name": "stderr",
     "output_type": "stream",
     "text": [
      "C:\\Users\\HP\\Anaconda3\\lib\\site-packages\\sklearn\\cross_validation.py:41: DeprecationWarning: This module was deprecated in version 0.18 in favor of the model_selection module into which all the refactored classes and functions are moved. Also note that the interface of the new CV iterators are different from that of this module. This module will be removed in 0.20.\n",
      "  \"This module will be removed in 0.20.\", DeprecationWarning)\n",
      "C:\\Users\\HP\\Anaconda3\\lib\\site-packages\\sklearn\\grid_search.py:42: DeprecationWarning: This module was deprecated in version 0.18 in favor of the model_selection module into which all the refactored classes and functions are moved. This module will be removed in 0.20.\n",
      "  DeprecationWarning)\n"
     ]
    }
   ],
   "source": [
    "# Importing GridSearch\n",
    "from sklearn.grid_search import GridSearchCV\n",
    "\n",
    "# Building the model\n",
    "my_tree_two = tree.DecisionTreeClassifier()\n",
    "grid = GridSearchCV(estimator = my_tree_two, cv=3, \n",
    "                    param_grid = dict(max_depth = max_depth, criterion = criterion))"
   ]
  },
  {
   "cell_type": "code",
   "execution_count": 26,
   "metadata": {
    "_uuid": "fcbf5c2aa0fdf983b0fddb457be70446dbdf5d3c"
   },
   "outputs": [
    {
     "data": {
      "text/plain": [
       "GridSearchCV(cv=3, error_score='raise',\n",
       "       estimator=DecisionTreeClassifier(class_weight=None, criterion='gini', max_depth=None,\n",
       "            max_features=None, max_leaf_nodes=None,\n",
       "            min_impurity_decrease=0.0, min_impurity_split=None,\n",
       "            min_samples_leaf=1, min_samples_split=2,\n",
       "            min_weight_fraction_leaf=0.0, presort=False, random_state=None,\n",
       "            splitter='best'),\n",
       "       fit_params={}, iid=True, n_jobs=1,\n",
       "       param_grid={'max_depth': [3, 5, 7], 'criterion': ['gini', 'entropy']},\n",
       "       pre_dispatch='2*n_jobs', refit=True, scoring=None, verbose=0)"
      ]
     },
     "execution_count": 26,
     "metadata": {},
     "output_type": "execute_result"
    }
   ],
   "source": [
    "grid.fit(X_train,y_train)"
   ]
  },
  {
   "cell_type": "code",
   "execution_count": 27,
   "metadata": {
    "_uuid": "1ce1bcd678d8b21ff42ed07d9c619e8d20c4f33b"
   },
   "outputs": [
    {
     "data": {
      "text/plain": [
       "0.9382027529765506"
      ]
     },
     "execution_count": 27,
     "metadata": {},
     "output_type": "execute_result"
    }
   ],
   "source": [
    "# Best accuracy score\n",
    "grid.best_score_"
   ]
  },
  {
   "cell_type": "code",
   "execution_count": 28,
   "metadata": {
    "_uuid": "7964d99f97234dcb63bf31e3173f1a73ac7bc6fa"
   },
   "outputs": [
    {
     "data": {
      "text/plain": [
       "{'criterion': 'entropy', 'max_depth': 7}"
      ]
     },
     "execution_count": 28,
     "metadata": {},
     "output_type": "execute_result"
    }
   ],
   "source": [
    "# Best params for the model\n",
    "grid.best_params_"
   ]
  },
  {
   "cell_type": "code",
   "execution_count": 29,
   "metadata": {
    "_uuid": "9cae21fa319669d2ae398ff0492e57fd6b015743"
   },
   "outputs": [
    {
     "data": {
      "text/plain": [
       "DecisionTreeClassifier(class_weight=None, criterion='entropy', max_depth=7,\n",
       "            max_features=None, max_leaf_nodes=None,\n",
       "            min_impurity_decrease=0.0, min_impurity_split=None,\n",
       "            min_samples_leaf=1, min_samples_split=2,\n",
       "            min_weight_fraction_leaf=0.0, presort=False, random_state=42,\n",
       "            splitter='best')"
      ]
     },
     "execution_count": 29,
     "metadata": {},
     "output_type": "execute_result"
    }
   ],
   "source": [
    "# Building the model based on new parameters\n",
    "my_tree_two = tree.DecisionTreeClassifier(criterion= 'entropy', max_depth= 7, random_state=42)\n",
    "my_tree_two.fit(X_train,y_train)"
   ]
  },
  {
   "cell_type": "code",
   "execution_count": 30,
   "metadata": {
    "_uuid": "342037ca5b71e0b5c27c3f3f9b9a29ec7776cb5c"
   },
   "outputs": [
    {
     "data": {
      "text/plain": [
       "0.938232762918554"
      ]
     },
     "execution_count": 30,
     "metadata": {},
     "output_type": "execute_result"
    }
   ],
   "source": [
    "# Accuracy Score for new model\n",
    "my_tree_two.score(X_train,y_train)"
   ]
  },
  {
   "cell_type": "markdown",
   "metadata": {
    "_uuid": "859a6a8b7fc6befcd18b96c6486161ed7f4e6da4"
   },
   "source": [
    "### <font color=\"Green\">5. Naive Bayes</font>"
   ]
  },
  {
   "cell_type": "code",
   "execution_count": 31,
   "metadata": {
    "_uuid": "5aea9dd51533d954259fd7e41642368e61e88e44"
   },
   "outputs": [],
   "source": [
    "from sklearn.feature_extraction.text import TfidfVectorizer\n",
    "from sklearn.naive_bayes import MultinomialNB"
   ]
  },
  {
   "cell_type": "code",
   "execution_count": 32,
   "metadata": {
    "_uuid": "911feb6f26f3d2cca700c0c9f48f9b450836bd35"
   },
   "outputs": [],
   "source": [
    "stopset=set(stopwords.words(\"english\"))\n",
    "vectorizer = TfidfVectorizer(use_idf=True, lowercase=True, strip_accents='ascii', stop_words=stopset)"
   ]
  },
  {
   "cell_type": "code",
   "execution_count": 33,
   "metadata": {
    "_uuid": "d12eb6abcbaa379c37d421a08cb38559d982bc84"
   },
   "outputs": [],
   "source": [
    "x_fit=vectorizer.fit_transform(X_train)"
   ]
  },
  {
   "cell_type": "code",
   "execution_count": 34,
   "metadata": {
    "_uuid": "83daf68e4a5fedbc6bae76e912754cef17f0ab2b"
   },
   "outputs": [],
   "source": [
    "mnb=MultinomialNB()\n",
    "model=mnb.fit(X_train,y_train)"
   ]
  },
  {
   "cell_type": "code",
   "execution_count": 35,
   "metadata": {
    "_uuid": "ea37a297db05b3a6cd3b51b2753a4d0993a52a9e"
   },
   "outputs": [],
   "source": [
    "y_prd=model.predict(X_test)"
   ]
  },
  {
   "cell_type": "code",
   "execution_count": 41,
   "metadata": {
    "_uuid": "62567da7e1656b7177e4ee875bca6cd9e2b78719"
   },
   "outputs": [
    {
     "data": {
      "text/plain": [
       "0.935765171235761"
      ]
     },
     "execution_count": 41,
     "metadata": {},
     "output_type": "execute_result"
    }
   ],
   "source": [
    "model.score(X_train,y_train)"
   ]
  },
  {
   "cell_type": "markdown",
   "metadata": {},
   "source": [
    "### Conclusion : All the above algorithms have accuracy score 94%"
   ]
  },
  {
   "cell_type": "code",
   "execution_count": null,
   "metadata": {},
   "outputs": [],
   "source": []
  }
 ],
 "metadata": {
  "kernelspec": {
   "display_name": "Python 3",
   "language": "python",
   "name": "python3"
  },
  "language_info": {
   "codemirror_mode": {
    "name": "ipython",
    "version": 3
   },
   "file_extension": ".py",
   "mimetype": "text/x-python",
   "name": "python",
   "nbconvert_exporter": "python",
   "pygments_lexer": "ipython3",
   "version": "3.6.5"
  }
 },
 "nbformat": 4,
 "nbformat_minor": 1
}
